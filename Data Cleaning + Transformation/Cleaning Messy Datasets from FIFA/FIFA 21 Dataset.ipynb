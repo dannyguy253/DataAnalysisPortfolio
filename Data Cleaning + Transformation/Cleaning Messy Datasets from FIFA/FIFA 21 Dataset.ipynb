{
 "cells": [
  {
   "cell_type": "markdown",
   "id": "f981191e",
   "metadata": {},
   "source": [
    "# Data Cleaning and Exploration: Transforming a Messy FIFA 21 Dataset"
   ]
  },
  {
   "cell_type": "markdown",
   "id": "a6324de6",
   "metadata": {},
   "source": [
    "In this data cleaning project, I'll be putting my Python skills to the test by tackling a messy dataset sourced from Kaggle. The dataset, available [here](https://www.kaggle.com/datasets/yagunnersya/fifa-21-messy-raw-dataset-for-cleaning-exploring?select=fifa21_raw_data.csv%E2%80%8B), presents a prime opportunity to apply the techniques I've learned to clean and explore real-world data. Through this project, I aim to demonstrate my ability to handle data quality issues, such as missing values and inconsistencies. Follow along as I navigate the process of transforming raw, disorderly data into a structured and informative dataset ready for analysis and interpretation."
   ]
  },
  {
   "cell_type": "code",
   "execution_count": 1,
   "id": "811a7248",
   "metadata": {},
   "outputs": [],
   "source": [
    "# importing libraries\n",
    "import pandas as pd\n",
    "import numpy as np\n",
    "import re"
   ]
  },
  {
   "cell_type": "code",
   "execution_count": 2,
   "id": "4ba30f90",
   "metadata": {
    "scrolled": true
   },
   "outputs": [],
   "source": [
    "filepath = r'C:\\Users\\dlam1\\OneDrive\\Desktop\\Data Analysis Portfolio\\FIFA 21 Messy Dataset\\fifa21 raw data v2.csv'\n",
    "\n",
    "fifa = pd.read_csv(filepath)\n",
    "fifa.head()"
   ]
  },
  {
   "cell_type": "markdown",
   "id": "00d8dd31",
   "metadata": {},
   "source": [
    "## Removing Unneeded Columns"
   ]
  },
  {
   "cell_type": "markdown",
   "id": "699dcb49",
   "metadata": {},
   "source": [
    "We are eliminating the 'photoURL' and 'playerURL' columns from our dataset as they do not contribute to our analysis."
   ]
  },
  {
   "cell_type": "code",
   "execution_count": 3,
   "id": "80ad6dbd",
   "metadata": {},
   "outputs": [],
   "source": [
    "fifa = fifa.drop(columns=['photoUrl', 'playerUrl'])"
   ]
  },
  {
   "cell_type": "markdown",
   "id": "fca38c6d",
   "metadata": {},
   "source": [
    "## Renaming Column Name"
   ]
  },
  {
   "cell_type": "markdown",
   "id": "cad791c6",
   "metadata": {},
   "source": [
    "I standardized the column name from '↓OVA' to 'OVA' to adhere to consistent naming conventions."
   ]
  },
  {
   "cell_type": "code",
   "execution_count": 4,
   "id": "9f38f82f",
   "metadata": {},
   "outputs": [],
   "source": [
    "fifa = fifa.rename(columns={'↓OVA': 'OVA'})"
   ]
  },
  {
   "cell_type": "markdown",
   "id": "2f20ea60",
   "metadata": {},
   "source": [
    "## Finding Duplicated Rows and Null Values"
   ]
  },
  {
   "cell_type": "code",
   "execution_count": 5,
   "id": "f91e2a6a",
   "metadata": {},
   "outputs": [],
   "source": [
    "print(f\"There are {fifa.duplicated().sum()} duplicated rows.\")"
   ]
  },
  {
   "cell_type": "code",
   "execution_count": 6,
   "id": "993730c5",
   "metadata": {
    "scrolled": true
   },
   "outputs": [],
   "source": [
    "fifa.info()"
   ]
  },
  {
   "cell_type": "markdown",
   "id": "f44284f0",
   "metadata": {},
   "source": [
    "In the dataset, we have observed null values in the 'Loan Date End' and 'Hits' columns."
   ]
  },
  {
   "cell_type": "code",
   "execution_count": 7,
   "id": "6858ccd8",
   "metadata": {},
   "outputs": [],
   "source": [
    "# these are the cols which have null values\n",
    "fifa.columns[fifa.isnull().sum() != 0]"
   ]
  },
  {
   "cell_type": "markdown",
   "id": "85c8c6b5",
   "metadata": {},
   "source": [
    "For the 'Loan Date End' column, null values indicate when a player is on loan and not under contract, so we won't address them here. However, we will handle the null values in the 'Hits' column by first calculating the percentage of nulls."
   ]
  },
  {
   "cell_type": "code",
   "execution_count": 8,
   "id": "0dda19a6",
   "metadata": {
    "scrolled": true
   },
   "outputs": [],
   "source": [
    "hit_null_percentages = fifa['Hits'].isnull().value_counts() / fifa.shape[0]\n",
    "null_percentage = hit_null_percentages[True]\n",
    "print(f\"The hits column has a null percentage of {null_percentage:.2%}.\")"
   ]
  },
  {
   "cell_type": "markdown",
   "id": "be6e5759",
   "metadata": {},
   "source": [
    "Given the presence of missing values in the Hits column, we'll fill these null values with 0. This choice signifies a deliberate representation of the lack of information, indicating that the data was not available rather than unintentionally missing."
   ]
  },
  {
   "cell_type": "code",
   "execution_count": 9,
   "id": "203d5966",
   "metadata": {},
   "outputs": [],
   "source": [
    "fifa['Hits'].fillna(0, inplace=True)"
   ]
  },
  {
   "cell_type": "markdown",
   "id": "761744d9",
   "metadata": {},
   "source": [
    "## Column Specific Cleaning"
   ]
  },
  {
   "cell_type": "markdown",
   "id": "880bce3f",
   "metadata": {},
   "source": [
    "### Club"
   ]
  },
  {
   "cell_type": "markdown",
   "id": "ec2a9564",
   "metadata": {},
   "source": [
    "In the 'Club' column, there are leading newline characters present in each entry. To clean this, we will remove these leading newline characters."
   ]
  },
  {
   "cell_type": "code",
   "execution_count": 10,
   "id": "dd215062",
   "metadata": {},
   "outputs": [],
   "source": [
    "fifa[\"Club\"].unique()"
   ]
  },
  {
   "cell_type": "code",
   "execution_count": 11,
   "id": "cb05e730",
   "metadata": {},
   "outputs": [],
   "source": [
    "# remove newlines from club col\n",
    "fifa['Club'] = fifa['Club'].replace(r\"\\n\",\"\",regex=True)\n",
    "fifa['Club']"
   ]
  },
  {
   "cell_type": "markdown",
   "id": "b94ad482",
   "metadata": {},
   "source": [
    "### Contract"
   ]
  },
  {
   "cell_type": "markdown",
   "id": "42067f83",
   "metadata": {},
   "source": [
    "The 'Contract' column mostly contains year ranges indicating when each player signed their contract."
   ]
  },
  {
   "cell_type": "code",
   "execution_count": 12,
   "id": "edc2fc7d",
   "metadata": {
    "scrolled": true
   },
   "outputs": [],
   "source": [
    "fifa[\"Contract\"].unique()"
   ]
  },
  {
   "cell_type": "markdown",
   "id": "7c6b8055",
   "metadata": {},
   "source": [
    "In the 'Contract' column, besides the year ranges, we also observe entries indicating when the contract is either on loan or free."
   ]
  },
  {
   "cell_type": "code",
   "execution_count": 13,
   "id": "155e4812",
   "metadata": {
    "scrolled": true
   },
   "outputs": [],
   "source": [
    "# entries of contract col where it has no ~ delimiter\n",
    "fifa[~fifa[\"Contract\"].str.contains('~')][\"Contract\"].unique()"
   ]
  },
  {
   "cell_type": "markdown",
   "id": "6e35f223",
   "metadata": {},
   "source": [
    "Initially, we will split the 'Contract' column into two separate columns: 'Beginning Year' and 'Ending Year'. This will represent the start and end years of each FIFA player's contract."
   ]
  },
  {
   "cell_type": "code",
   "execution_count": 14,
   "id": "0aad82c9",
   "metadata": {
    "scrolled": true
   },
   "outputs": [],
   "source": [
    "# break contract col into beginning year and ending year cols\n",
    "fifa[['Beginning Year', 'Ending Year']] = fifa['Contract'].str.split(' ~ ', expand=True)\n",
    "fifa"
   ]
  },
  {
   "cell_type": "markdown",
   "id": "3718d8c0",
   "metadata": {},
   "source": [
    "In the 'Contract' column, some entries are labeled as 'On Loan' or 'Free', while others contain year ranges with a '~' delimiter. To address this, we will use the 'Loan Date End' column for entries labeled as 'On Loan'. For entries labeled as 'Free', we will leave the 'Beginning Year' and 'Ending Year' columns as null, indicating that the player does not have a contract and is available as a free agent."
   ]
  },
  {
   "cell_type": "code",
   "execution_count": 15,
   "id": "46809eb8",
   "metadata": {
    "scrolled": false
   },
   "outputs": [],
   "source": [
    "# view rows with loan in contract col\n",
    "fifa[fifa[\"Contract\"].str.contains(\"Loan\")][[\"Contract\",\"Loan Date End\",\"Beginning Year\",\"Ending Year\"]]"
   ]
  },
  {
   "cell_type": "code",
   "execution_count": 16,
   "id": "fa83bba5",
   "metadata": {},
   "outputs": [],
   "source": [
    "# view rows with free in contract col\n",
    "fifa[fifa[\"Contract\"].str.contains(\"Free\")][[\"Contract\",\"Loan Date End\",\"Beginning Year\",\"Ending Year\"]]"
   ]
  },
  {
   "cell_type": "markdown",
   "id": "e34f4452",
   "metadata": {},
   "source": [
    "Since the 'Beginning Year' column already includes the year portion from the left-hand side of the '~' when splitting the columns, we will use that year portion as the value for the 'Beginning Year' column."
   ]
  },
  {
   "cell_type": "code",
   "execution_count": 17,
   "id": "55944265",
   "metadata": {},
   "outputs": [],
   "source": [
    "fifa[\"Beginning Year\"] = fifa[\"Beginning Year\"].str.extract(r\"(\\d{4})\")"
   ]
  },
  {
   "cell_type": "code",
   "execution_count": 18,
   "id": "f4f09e85",
   "metadata": {
    "scrolled": false
   },
   "outputs": [],
   "source": [
    "# view rows with loan in contract col\n",
    "fifa[fifa[\"Contract\"].str.contains(\"Loan\")][[\"Contract\",\"Loan Date End\",\"Beginning Year\",\"Ending Year\"]]"
   ]
  },
  {
   "cell_type": "code",
   "execution_count": 19,
   "id": "50719363",
   "metadata": {},
   "outputs": [],
   "source": [
    "# view rows with free in contract col\n",
    "fifa[fifa[\"Contract\"].str.contains(\"Free\")][[\"Contract\",\"Loan Date End\",\"Beginning Year\",\"Ending Year\"]]"
   ]
  },
  {
   "cell_type": "markdown",
   "id": "574f9d4e",
   "metadata": {},
   "source": [
    "For the 'Ending Year' column, we will extract the year portion from the 'Loan Date End' column and use it as the values for the 'Ending Year' column."
   ]
  },
  {
   "cell_type": "code",
   "execution_count": 20,
   "id": "81a02441",
   "metadata": {},
   "outputs": [],
   "source": [
    "# fill null of ending year with the years of Loan Date End col\n",
    "# place year of loan date end onto ending year\n",
    "fifa.loc[fifa[\"Contract\"].str.contains(\"Loan\"), \"Ending Year\"] = fifa[\"Loan Date End\"].dropna().str.extract(r\"(\\d{4})\")[0]"
   ]
  },
  {
   "cell_type": "code",
   "execution_count": 21,
   "id": "dfbfa0c9",
   "metadata": {},
   "outputs": [],
   "source": [
    "# replace None with nan\n",
    "fifa.loc[fifa[\"Contract\"].str.contains(\"Free\"), \"Ending Year\"] = np.nan"
   ]
  },
  {
   "cell_type": "code",
   "execution_count": 22,
   "id": "2ba9967f",
   "metadata": {
    "scrolled": false
   },
   "outputs": [],
   "source": [
    "# view rows with loan in contract col\n",
    "fifa[fifa[\"Contract\"].str.contains(\"Loan\")][[\"Contract\",\"Loan Date End\",\"Beginning Year\",\"Ending Year\"]]"
   ]
  },
  {
   "cell_type": "code",
   "execution_count": 23,
   "id": "1b7b2e41",
   "metadata": {
    "scrolled": false
   },
   "outputs": [],
   "source": [
    "# view rows with free in contract col\n",
    "fifa[fifa[\"Contract\"].str.contains(\"Free\")][[\"Contract\",\"Loan Date End\",\"Beginning Year\",\"Ending Year\"]]"
   ]
  },
  {
   "cell_type": "code",
   "execution_count": 24,
   "id": "92953539",
   "metadata": {},
   "outputs": [],
   "source": [
    "# check every row in contract col without ~ delimiter\n",
    "fifa[~fifa[\"Contract\"].str.contains(\"~\")][[\"Contract\",\"Loan Date End\",\"Beginning Year\",\"Ending Year\"]]"
   ]
  },
  {
   "cell_type": "code",
   "execution_count": 25,
   "id": "8d27f8aa",
   "metadata": {
    "scrolled": true
   },
   "outputs": [],
   "source": [
    "fifa[~fifa[\"Contract\"].str.contains(\"~\")][[\"Contract\",\"Loan Date End\",\"Beginning Year\",\"Ending Year\"]].info()"
   ]
  },
  {
   "cell_type": "markdown",
   "id": "bfd0cd57",
   "metadata": {},
   "source": [
    "After splitting the 'Contract' column, we will remove this column from our dataset since it is now unnecessary for analysis, as the information it contained has been transferred to the two newly created columns."
   ]
  },
  {
   "cell_type": "code",
   "execution_count": 26,
   "id": "c304d06f",
   "metadata": {},
   "outputs": [],
   "source": [
    "# all null values needed to be filled are filled, so we will drop the contract col\n",
    "fifa.drop(columns=\"Contract\", inplace=True)"
   ]
  },
  {
   "cell_type": "code",
   "execution_count": 27,
   "id": "0c526dff",
   "metadata": {},
   "outputs": [],
   "source": [
    "fifa[[\"Loan Date End\",\"Beginning Year\",\"Ending Year\"]] = fifa[[\"Loan Date End\",\"Beginning Year\",\"Ending Year\"]].apply(pd.to_datetime)"
   ]
  },
  {
   "cell_type": "markdown",
   "id": "7c30f201",
   "metadata": {},
   "source": [
    "### Height"
   ]
  },
  {
   "cell_type": "code",
   "execution_count": 28,
   "id": "ee764c2e",
   "metadata": {},
   "outputs": [],
   "source": [
    "# Convert Height Column to all units in cm and represent the datatype as a float"
   ]
  },
  {
   "cell_type": "code",
   "execution_count": 29,
   "id": "9f56b6a5",
   "metadata": {
    "scrolled": true
   },
   "outputs": [],
   "source": [
    "fifa[\"Height\"].unique()"
   ]
  },
  {
   "cell_type": "markdown",
   "id": "b3ffdd7a",
   "metadata": {},
   "source": [
    "The 'Height' column currently contains a mix of imperial units (feet and inches) and SI units (centimeters). To standardize the units and ensure consistency, we will convert all height measurements to centimeters (cm)."
   ]
  },
  {
   "cell_type": "code",
   "execution_count": 30,
   "id": "3f6a7788",
   "metadata": {},
   "outputs": [],
   "source": [
    "fifa[~fifa[\"Height\"].str.contains(\"cm\")][\"Height\"].unique()"
   ]
  },
  {
   "cell_type": "code",
   "execution_count": 31,
   "id": "34035c5a",
   "metadata": {},
   "outputs": [],
   "source": [
    "# Function to convert feet and inches to centimeters\n",
    "def feet_inches_to_cm(height):\n",
    "    if \"'\" in height and '\"' in height:\n",
    "        feet, inches = height.split(\"'\")\n",
    "        return int(feet) * 30.48 + int(inches.strip('\"')) * 2.54  # 1 foot = 30.48 cm, 1 inch = 2.54 cm\n",
    "    elif \"'\" in height:\n",
    "        return int(height.replace(\"'\", \"\")) * 30.48\n",
    "    elif '\"' in height:\n",
    "        return int(height.replace('\"', \"\")) * 2.54\n",
    "    else:\n",
    "        return int(height.split(\"cm\")[0])\n",
    "\n",
    "# Apply the function to the 'Height' column where it now has numbers representing only in cm\n",
    "fifa['Height'] = fifa['Height'].apply(feet_inches_to_cm)\n",
    "\n",
    "fifa[\"Height\"]"
   ]
  },
  {
   "cell_type": "code",
   "execution_count": 32,
   "id": "baf4e101",
   "metadata": {},
   "outputs": [],
   "source": [
    "fifa[\"Height\"].unique()"
   ]
  },
  {
   "cell_type": "code",
   "execution_count": 33,
   "id": "a4da9644",
   "metadata": {},
   "outputs": [],
   "source": [
    "fifa[\"Height\"]"
   ]
  },
  {
   "cell_type": "markdown",
   "id": "d2721689",
   "metadata": {},
   "source": [
    "### Weight"
   ]
  },
  {
   "cell_type": "code",
   "execution_count": 34,
   "id": "faf3c1dd",
   "metadata": {},
   "outputs": [],
   "source": [
    "# Convert Weight Column to all units in kg and represent the datatype as a float"
   ]
  },
  {
   "cell_type": "code",
   "execution_count": 35,
   "id": "a17aaad7",
   "metadata": {},
   "outputs": [],
   "source": [
    "fifa[\"Weight\"].unique()"
   ]
  },
  {
   "cell_type": "code",
   "execution_count": 36,
   "id": "26f007b1",
   "metadata": {
    "scrolled": true
   },
   "outputs": [],
   "source": [
    "fifa[~fifa[\"Weight\"].str.contains(\"kg\")][\"Weight\"].unique()"
   ]
  },
  {
   "cell_type": "markdown",
   "id": "b89100bc",
   "metadata": {},
   "source": [
    "Similar to the 'Height' column, the 'Weight' column also needs standardization to ensure measurements are in a single unit. Therefore, we will convert all weight values to kilograms (kg), which is the SI unit for weight."
   ]
  },
  {
   "cell_type": "code",
   "execution_count": 37,
   "id": "82aa1e24",
   "metadata": {},
   "outputs": [],
   "source": [
    "# Function to convert pounds to kilograms\n",
    "def lbs_to_kg(weight):\n",
    "    if \"lbs\" in weight:\n",
    "        return round(int(weight.replace(\"lbs\", \"\")) * 0.45359237, 1) # 1 pound is approx 0.45359237 kg\n",
    "\n",
    "    else:\n",
    "        return int(weight.split(\"kg\")[0])\n",
    "\n",
    "# Apply the function to the 'Weight' column where it now has floats representing only in kg\n",
    "fifa['Weight'] = fifa['Weight'].apply(lbs_to_kg)"
   ]
  },
  {
   "cell_type": "code",
   "execution_count": 38,
   "id": "106cd818",
   "metadata": {
    "scrolled": false
   },
   "outputs": [],
   "source": [
    "# now weight col is in kg and all values are floats\n",
    "fifa['Weight'].unique()"
   ]
  },
  {
   "cell_type": "markdown",
   "id": "19879192",
   "metadata": {},
   "source": [
    "### Joined"
   ]
  },
  {
   "cell_type": "markdown",
   "id": "169dff32",
   "metadata": {},
   "source": [
    "Upon reviewing the 'Joined' column, we will transform this column so that its datatype is a datetime object, as all values represent dates."
   ]
  },
  {
   "cell_type": "code",
   "execution_count": 39,
   "id": "2a1c592b",
   "metadata": {},
   "outputs": [],
   "source": [
    "# make the Joined Col into a datetime dtype\n",
    "fifa[\"Joined\"] = pd.to_datetime(fifa[\"Joined\"])\n",
    "fifa[\"Joined\"]"
   ]
  },
  {
   "cell_type": "code",
   "execution_count": 40,
   "id": "640f48ba",
   "metadata": {},
   "outputs": [],
   "source": [
    "# express value, wage, release clause cols in terms of thousands of euro"
   ]
  },
  {
   "cell_type": "markdown",
   "id": "6ed2fb05",
   "metadata": {},
   "source": [
    "### Value, Wage, and Release Clause"
   ]
  },
  {
   "cell_type": "markdown",
   "id": "69fa28f7",
   "metadata": {},
   "source": [
    "The 'Value', 'Wage', and 'Release Clause' columns are currently not standardized and have different units. To ensure consistency, we will transform these columns to represent values in thousands of euros."
   ]
  },
  {
   "cell_type": "code",
   "execution_count": 41,
   "id": "952f99dc",
   "metadata": {},
   "outputs": [],
   "source": [
    "fifa[[\"Value\", \"Wage\", \"Release Clause\"]]"
   ]
  },
  {
   "cell_type": "code",
   "execution_count": 42,
   "id": "d07bd8d8",
   "metadata": {},
   "outputs": [],
   "source": [
    "fifa[~fifa[\"Value\"].str.contains(\"K\")][\"Value\"].unique()"
   ]
  },
  {
   "cell_type": "code",
   "execution_count": 43,
   "id": "8c0f4326",
   "metadata": {},
   "outputs": [],
   "source": [
    "fifa[~fifa[\"Wage\"].str.contains(\"K\")][\"Wage\"].unique()"
   ]
  },
  {
   "cell_type": "code",
   "execution_count": 44,
   "id": "ac8f43c3",
   "metadata": {
    "scrolled": true
   },
   "outputs": [],
   "source": [
    "fifa[~fifa[\"Release Clause\"].str.contains(\"K\")][\"Release Clause\"].unique()"
   ]
  },
  {
   "cell_type": "code",
   "execution_count": 45,
   "id": "6bd9c09e",
   "metadata": {},
   "outputs": [],
   "source": [
    "fifa[~fifa[\"Value\"].str.contains(\"K|M\")][\"Value\"].unique()"
   ]
  },
  {
   "cell_type": "code",
   "execution_count": 46,
   "id": "f0d91d1c",
   "metadata": {},
   "outputs": [],
   "source": [
    "fifa[~fifa[\"Wage\"].str.contains(\"K|M\")][\"Wage\"].unique()"
   ]
  },
  {
   "cell_type": "code",
   "execution_count": 47,
   "id": "0f2db39c",
   "metadata": {},
   "outputs": [],
   "source": [
    "fifa[~fifa[\"Release Clause\"].str.contains(\"K|M\")][\"Release Clause\"].unique()"
   ]
  },
  {
   "cell_type": "code",
   "execution_count": 48,
   "id": "148b0a0e",
   "metadata": {},
   "outputs": [],
   "source": [
    "# Function to convert Millions to thousands of euros\n",
    "def euro_to_thousandEuros(money):\n",
    "    amount = float(re.search(r'[\\d.]+', money).group()) # extract numeric value\n",
    "    if \"M\" in money:\n",
    "        return amount * 1000\n",
    "    elif \"K\" in money:\n",
    "        return amount\n",
    "    else:\n",
    "        return amount / 1000"
   ]
  },
  {
   "cell_type": "code",
   "execution_count": 49,
   "id": "e1437c6b",
   "metadata": {},
   "outputs": [],
   "source": [
    "fifa[[\"Value\", \"Wage\", \"Release Clause\"]] = fifa[[\"Value\", \"Wage\", \"Release Clause\"]].apply(lambda x: x.apply(euro_to_thousandEuros))"
   ]
  },
  {
   "cell_type": "markdown",
   "id": "973c658a",
   "metadata": {},
   "source": [
    "### W/F. SM, and IR"
   ]
  },
  {
   "cell_type": "markdown",
   "id": "f8557d96",
   "metadata": {},
   "source": [
    "The 'W/F', 'SM', and 'IR' columns contain a special star character, which is not ideal for making calculations. To address this, we will preserve only the numerical values in these columns."
   ]
  },
  {
   "cell_type": "code",
   "execution_count": 50,
   "id": "593da05e",
   "metadata": {},
   "outputs": [],
   "source": [
    "# Extract the score from the W/F, SM, IR cols removing the star character\n",
    "def number_extractor(str):\n",
    "    return int(re.search(r'[\\d.]+', str).group())\n",
    "\n",
    "fifa[['W/F', 'SM', 'IR']] = fifa[['W/F', 'SM', 'IR']].apply(lambda x: x.apply(number_extractor))"
   ]
  },
  {
   "cell_type": "code",
   "execution_count": 51,
   "id": "15bd7d07",
   "metadata": {},
   "outputs": [],
   "source": [
    "fifa[fifa[\"Hits\"].astype(str).str.contains(\"K\")][\"Hits\"].unique()"
   ]
  },
  {
   "cell_type": "code",
   "execution_count": 52,
   "id": "f68ef11c",
   "metadata": {},
   "outputs": [],
   "source": [
    "fifa[~fifa[\"Hits\"].astype(str).str.contains(\"K\")][\"Hits\"].unique()"
   ]
  },
  {
   "cell_type": "markdown",
   "id": "30bf9df6",
   "metadata": {},
   "source": [
    "### Hits"
   ]
  },
  {
   "cell_type": "markdown",
   "id": "10fd9a97",
   "metadata": {},
   "source": [
    "Finally, we will transform the 'Hits' column since it contains a mix of string and integer values, where some values are represented with 'K' (indicating thousands) while others are represented as just floats or strings."
   ]
  },
  {
   "cell_type": "code",
   "execution_count": 53,
   "id": "678ee04b",
   "metadata": {},
   "outputs": [],
   "source": [
    "# Function to convert hits to number of hits as int64\n",
    "def number_hits(hits):\n",
    "    amount = float(re.search(r'[\\d.]+', hits).group()) # extract numeric value\n",
    "    if \"K\" in hits:\n",
    "        return int(amount * 1000)\n",
    "    else:\n",
    "        return int(amount)\n",
    "\n",
    "    \n",
    "fifa[\"Hits\"] = fifa[\"Hits\"].astype(str).apply(number_hits)"
   ]
  },
  {
   "cell_type": "code",
   "execution_count": 54,
   "id": "19320dfc",
   "metadata": {
    "scrolled": true
   },
   "outputs": [],
   "source": [
    "fifa.info()"
   ]
  },
  {
   "cell_type": "markdown",
   "id": "765f4706",
   "metadata": {},
   "source": [
    "## Viewing the Final Cleaned Fifa Dataset"
   ]
  },
  {
   "cell_type": "code",
   "execution_count": 55,
   "id": "998baa74",
   "metadata": {},
   "outputs": [],
   "source": [
    "fifa"
   ]
  },
  {
   "cell_type": "markdown",
   "id": "770b856f",
   "metadata": {},
   "source": [
    "## Exporting File to CSV"
   ]
  },
  {
   "cell_type": "markdown",
   "id": "6c96c97b",
   "metadata": {},
   "source": [
    "At the conclusion of the data cleaning process, I will save the cleaned version of this dataset to a CSV file named 'cleaned_fifa_data.csv'. This file will serve as a reference for future analysis and visualizations."
   ]
  },
  {
   "cell_type": "code",
   "execution_count": 56,
   "id": "8b8813cf",
   "metadata": {},
   "outputs": [],
   "source": [
    "# Export cleaned data to a CSV file\n",
    "fifa.to_csv('cleaned_fifa_data.csv', index=False)"
   ]
  }
 ],
 "metadata": {
  "kernelspec": {
   "display_name": "Python 3 (ipykernel)",
   "language": "python",
   "name": "python3"
  },
  "language_info": {
   "codemirror_mode": {
    "name": "ipython",
    "version": 3
   },
   "file_extension": ".py",
   "mimetype": "text/x-python",
   "name": "python",
   "nbconvert_exporter": "python",
   "pygments_lexer": "ipython3",
   "version": "3.9.7"
  }
 },
 "nbformat": 4,
 "nbformat_minor": 5
}
